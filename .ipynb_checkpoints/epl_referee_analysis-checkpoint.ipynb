{
 "cells": [
  {
   "cell_type": "code",
   "execution_count": 85,
   "metadata": {},
   "outputs": [],
   "source": [
    "import pandas as pd\n",
    "import numpy as np\n",
    "import matplotlib.pyplot as plt\n",
    "%matplotlib inline"
   ]
  },
  {
   "cell_type": "markdown",
   "metadata": {},
   "source": [
    "insert file pathname for pandas access"
   ]
  },
  {
   "cell_type": "code",
   "execution_count": 86,
   "metadata": {},
   "outputs": [],
   "source": [
    "df_path = pd.read_csv(\"/Users/figaero/Desktop/DataAnalysisWork/SQL Test 2/last_season.csv\")"
   ]
  },
  {
   "cell_type": "code",
   "execution_count": 87,
   "metadata": {},
   "outputs": [
    {
     "data": {
      "text/html": [
       "<div>\n",
       "<style scoped>\n",
       "    .dataframe tbody tr th:only-of-type {\n",
       "        vertical-align: middle;\n",
       "    }\n",
       "\n",
       "    .dataframe tbody tr th {\n",
       "        vertical-align: top;\n",
       "    }\n",
       "\n",
       "    .dataframe thead th {\n",
       "        text-align: right;\n",
       "    }\n",
       "</style>\n",
       "<table border=\"1\" class=\"dataframe\">\n",
       "  <thead>\n",
       "    <tr style=\"text-align: right;\">\n",
       "      <th></th>\n",
       "      <th>date</th>\n",
       "      <th>time</th>\n",
       "      <th>home_team</th>\n",
       "      <th>away_team</th>\n",
       "      <th>fulltime_homegoal</th>\n",
       "      <th>fulltime_awaygoal</th>\n",
       "      <th>result_home_away_draw</th>\n",
       "      <th>halftime_home_goals</th>\n",
       "      <th>halftime_away_goals</th>\n",
       "      <th>halftime_result</th>\n",
       "      <th>...</th>\n",
       "      <th>awayteam_redcards</th>\n",
       "      <th>B365_homewinodds</th>\n",
       "      <th>B365_drawodds</th>\n",
       "      <th>B365_awaywinodds</th>\n",
       "      <th>bet-and-win_homewinodds</th>\n",
       "      <th>bet-and-win_drawodds</th>\n",
       "      <th>bet-and-win_awaywinodds</th>\n",
       "      <th>william-hill_homewinodds</th>\n",
       "      <th>william-hill_drawodds</th>\n",
       "      <th>william-hill_awaywinodds</th>\n",
       "    </tr>\n",
       "  </thead>\n",
       "  <tbody>\n",
       "    <tr>\n",
       "      <th>0</th>\n",
       "      <td>09/08/2019</td>\n",
       "      <td>20:00</td>\n",
       "      <td>Liverpool</td>\n",
       "      <td>Norwich</td>\n",
       "      <td>4</td>\n",
       "      <td>1</td>\n",
       "      <td>H</td>\n",
       "      <td>4</td>\n",
       "      <td>0</td>\n",
       "      <td>H</td>\n",
       "      <td>...</td>\n",
       "      <td>0</td>\n",
       "      <td>1.14</td>\n",
       "      <td>10.00</td>\n",
       "      <td>19.00</td>\n",
       "      <td>1.14</td>\n",
       "      <td>8.25</td>\n",
       "      <td>18.50</td>\n",
       "      <td>1.12</td>\n",
       "      <td>8.5</td>\n",
       "      <td>21.00</td>\n",
       "    </tr>\n",
       "    <tr>\n",
       "      <th>1</th>\n",
       "      <td>10/08/2019</td>\n",
       "      <td>12:30</td>\n",
       "      <td>West Ham</td>\n",
       "      <td>Man City</td>\n",
       "      <td>0</td>\n",
       "      <td>5</td>\n",
       "      <td>A</td>\n",
       "      <td>0</td>\n",
       "      <td>1</td>\n",
       "      <td>A</td>\n",
       "      <td>...</td>\n",
       "      <td>0</td>\n",
       "      <td>12.00</td>\n",
       "      <td>6.50</td>\n",
       "      <td>1.22</td>\n",
       "      <td>11.50</td>\n",
       "      <td>5.75</td>\n",
       "      <td>1.26</td>\n",
       "      <td>13.00</td>\n",
       "      <td>6.0</td>\n",
       "      <td>1.24</td>\n",
       "    </tr>\n",
       "    <tr>\n",
       "      <th>2</th>\n",
       "      <td>10/08/2019</td>\n",
       "      <td>15:00</td>\n",
       "      <td>Bournemouth</td>\n",
       "      <td>Sheffield United</td>\n",
       "      <td>1</td>\n",
       "      <td>1</td>\n",
       "      <td>D</td>\n",
       "      <td>0</td>\n",
       "      <td>0</td>\n",
       "      <td>D</td>\n",
       "      <td>...</td>\n",
       "      <td>0</td>\n",
       "      <td>1.95</td>\n",
       "      <td>3.60</td>\n",
       "      <td>3.60</td>\n",
       "      <td>1.95</td>\n",
       "      <td>3.60</td>\n",
       "      <td>3.90</td>\n",
       "      <td>2.00</td>\n",
       "      <td>3.5</td>\n",
       "      <td>3.80</td>\n",
       "    </tr>\n",
       "    <tr>\n",
       "      <th>3</th>\n",
       "      <td>10/08/2019</td>\n",
       "      <td>15:00</td>\n",
       "      <td>Burnley</td>\n",
       "      <td>Southampton</td>\n",
       "      <td>3</td>\n",
       "      <td>0</td>\n",
       "      <td>H</td>\n",
       "      <td>0</td>\n",
       "      <td>0</td>\n",
       "      <td>D</td>\n",
       "      <td>...</td>\n",
       "      <td>0</td>\n",
       "      <td>2.62</td>\n",
       "      <td>3.20</td>\n",
       "      <td>2.75</td>\n",
       "      <td>2.65</td>\n",
       "      <td>3.20</td>\n",
       "      <td>2.75</td>\n",
       "      <td>2.70</td>\n",
       "      <td>3.2</td>\n",
       "      <td>2.75</td>\n",
       "    </tr>\n",
       "    <tr>\n",
       "      <th>4</th>\n",
       "      <td>10/08/2019</td>\n",
       "      <td>15:00</td>\n",
       "      <td>Crystal Palace</td>\n",
       "      <td>Everton</td>\n",
       "      <td>0</td>\n",
       "      <td>0</td>\n",
       "      <td>D</td>\n",
       "      <td>0</td>\n",
       "      <td>0</td>\n",
       "      <td>D</td>\n",
       "      <td>...</td>\n",
       "      <td>1</td>\n",
       "      <td>3.00</td>\n",
       "      <td>3.25</td>\n",
       "      <td>2.37</td>\n",
       "      <td>3.20</td>\n",
       "      <td>3.20</td>\n",
       "      <td>2.35</td>\n",
       "      <td>3.10</td>\n",
       "      <td>3.3</td>\n",
       "      <td>2.35</td>\n",
       "    </tr>\n",
       "  </tbody>\n",
       "</table>\n",
       "<p>5 rows × 32 columns</p>\n",
       "</div>"
      ],
      "text/plain": [
       "         date   time       home_team         away_team  fulltime_homegoal  \\\n",
       "0  09/08/2019  20:00       Liverpool           Norwich                  4   \n",
       "1  10/08/2019  12:30        West Ham          Man City                  0   \n",
       "2  10/08/2019  15:00     Bournemouth  Sheffield United                  1   \n",
       "3  10/08/2019  15:00         Burnley       Southampton                  3   \n",
       "4  10/08/2019  15:00  Crystal Palace           Everton                  0   \n",
       "\n",
       "   fulltime_awaygoal result_home_away_draw  halftime_home_goals  \\\n",
       "0                  1                     H                    4   \n",
       "1                  5                     A                    0   \n",
       "2                  1                     D                    0   \n",
       "3                  0                     H                    0   \n",
       "4                  0                     D                    0   \n",
       "\n",
       "   halftime_away_goals halftime_result  ... awayteam_redcards  \\\n",
       "0                    0               H  ...                 0   \n",
       "1                    1               A  ...                 0   \n",
       "2                    0               D  ...                 0   \n",
       "3                    0               D  ...                 0   \n",
       "4                    0               D  ...                 1   \n",
       "\n",
       "   B365_homewinodds  B365_drawodds  B365_awaywinodds  bet-and-win_homewinodds  \\\n",
       "0              1.14          10.00             19.00                     1.14   \n",
       "1             12.00           6.50              1.22                    11.50   \n",
       "2              1.95           3.60              3.60                     1.95   \n",
       "3              2.62           3.20              2.75                     2.65   \n",
       "4              3.00           3.25              2.37                     3.20   \n",
       "\n",
       "   bet-and-win_drawodds  bet-and-win_awaywinodds  william-hill_homewinodds  \\\n",
       "0                  8.25                    18.50                      1.12   \n",
       "1                  5.75                     1.26                     13.00   \n",
       "2                  3.60                     3.90                      2.00   \n",
       "3                  3.20                     2.75                      2.70   \n",
       "4                  3.20                     2.35                      3.10   \n",
       "\n",
       "   william-hill_drawodds  william-hill_awaywinodds  \n",
       "0                    8.5                     21.00  \n",
       "1                    6.0                      1.24  \n",
       "2                    3.5                      3.80  \n",
       "3                    3.2                      2.75  \n",
       "4                    3.3                      2.35  \n",
       "\n",
       "[5 rows x 32 columns]"
      ]
     },
     "execution_count": 87,
     "metadata": {},
     "output_type": "execute_result"
    }
   ],
   "source": [
    "df_path.head()"
   ]
  },
  {
   "cell_type": "code",
   "execution_count": 88,
   "metadata": {
    "scrolled": true
   },
   "outputs": [
    {
     "name": "stdout",
     "output_type": "stream",
     "text": [
      "<class 'pandas.core.frame.DataFrame'>\n",
      "RangeIndex: 380 entries, 0 to 379\n",
      "Data columns (total 32 columns):\n",
      " #   Column                    Non-Null Count  Dtype  \n",
      "---  ------                    --------------  -----  \n",
      " 0   date                      380 non-null    object \n",
      " 1   time                      380 non-null    object \n",
      " 2   home_team                 380 non-null    object \n",
      " 3   away_team                 380 non-null    object \n",
      " 4   fulltime_homegoal         380 non-null    int64  \n",
      " 5   fulltime_awaygoal         380 non-null    int64  \n",
      " 6   result_home_away_draw     380 non-null    object \n",
      " 7   halftime_home_goals       380 non-null    int64  \n",
      " 8   halftime_away_goals       380 non-null    int64  \n",
      " 9   halftime_result           380 non-null    object \n",
      " 10  referee                   380 non-null    object \n",
      " 11  hometeam_shots            380 non-null    int64  \n",
      " 12  awayteam_shots            380 non-null    int64  \n",
      " 13  hometeam_shotsontarget    380 non-null    int64  \n",
      " 14  awayteam_shotsontarget    380 non-null    int64  \n",
      " 15  hometeam_fouls            380 non-null    int64  \n",
      " 16  awayteam_fouls            380 non-null    int64  \n",
      " 17  hometeam_corners          380 non-null    int64  \n",
      " 18  awayteam_corners          380 non-null    int64  \n",
      " 19  hometeam_yellowcards      380 non-null    int64  \n",
      " 20  awayteam_yellowcards      380 non-null    int64  \n",
      " 21  hometeam_redcards         380 non-null    int64  \n",
      " 22  awayteam_redcards         380 non-null    int64  \n",
      " 23  B365_homewinodds          380 non-null    float64\n",
      " 24  B365_drawodds             380 non-null    float64\n",
      " 25  B365_awaywinodds          380 non-null    float64\n",
      " 26  bet-and-win_homewinodds   380 non-null    float64\n",
      " 27  bet-and-win_drawodds      380 non-null    float64\n",
      " 28  bet-and-win_awaywinodds   380 non-null    float64\n",
      " 29  william-hill_homewinodds  380 non-null    float64\n",
      " 30  william-hill_drawodds     380 non-null    float64\n",
      " 31  william-hill_awaywinodds  380 non-null    float64\n",
      "dtypes: float64(9), int64(16), object(7)\n",
      "memory usage: 95.1+ KB\n"
     ]
    }
   ],
   "source": [
    "df_path.info()"
   ]
  },
  {
   "cell_type": "markdown",
   "metadata": {},
   "source": [
    "Data Cleaning"
   ]
  },
  {
   "cell_type": "markdown",
   "metadata": {},
   "source": [
    "df_path['time'] = df_path['date'].astype('str') + '-' + df_path['time'].astype('str')\n",
    "df_path['time].astype('datetime\n",
    "df_path.drop('date',axis=1,inplace=True)"
   ]
  },
  {
   "cell_type": "code",
   "execution_count": 89,
   "metadata": {},
   "outputs": [
    {
     "data": {
      "text/plain": [
       "0     2019-09-08\n",
       "1     2019-10-08\n",
       "2     2019-10-08\n",
       "3     2019-10-08\n",
       "4     2019-10-08\n",
       "         ...    \n",
       "375   2020-07-26\n",
       "376   2020-07-26\n",
       "377   2020-07-26\n",
       "378   2020-07-26\n",
       "379   2020-07-26\n",
       "Name: date, Length: 380, dtype: datetime64[ns]"
      ]
     },
     "execution_count": 89,
     "metadata": {},
     "output_type": "execute_result"
    }
   ],
   "source": [
    "df_path['time'].astype('datetime64')\n",
    "df_path['date'].astype('datetime64')"
   ]
  },
  {
   "cell_type": "code",
   "execution_count": 107,
   "metadata": {},
   "outputs": [],
   "source": [
    "df_path.head()\n",
    "df_path['total_red'] = df_path['hometeam_redcards'] + df_path['awayteam_redcards']\n",
    "df_path['total_yellow'] = df_path['hometeam_yellowcards'] + df_path['awayteam_yellowcards']\n",
    "df_path['total_goals'] = df_path['fulltime_homegoal'] + df_path['fulltime_awaygoal']\n",
    "df_path['total_fouls'] = df_path['hometeam_fouls'] + df_path['awayteam_fouls']\n",
    "df_path['avg_bet_homewin'] = (df_path['B365_homewinodds'] + df_path['bet-and-win_homewinodds'] + df_path['william-hill_homewinodds'])/3\n",
    "df_path['avg_bet_awaywin'] = (df_path['B365_awaywinodds'] + df_path['bet-and-win_awaywinodds'] + df_path['william-hill_awaywinodds'])/3\n",
    "df_path['avg_bet_draw'] = (df_path['B365_drawodds'] + df_path['bet-and-win_drawodds'] + df_path['william-hill_drawodds'])/3"
   ]
  },
  {
   "cell_type": "code",
   "execution_count": 108,
   "metadata": {},
   "outputs": [
    {
     "data": {
      "text/plain": [
       "M Atkinson    32\n",
       "M Oliver      32\n",
       "A Taylor      32\n",
       "M Dean        27\n",
       "C Kavanagh    26\n",
       "J Moss        25\n",
       "P Tierney     25\n",
       "K Friend      25\n",
       "A Marriner    24\n",
       "C Pawson      23\n",
       "S Attwell     21\n",
       "G Scott       18\n",
       "D Coote       16\n",
       "L Mason       16\n",
       "S Hooper      11\n",
       "P Bankes      11\n",
       "A Madley      11\n",
       "T Robinson     1\n",
       "D England      1\n",
       "R Jones        1\n",
       "O Langford     1\n",
       "S Scott        1\n",
       "Name: referee, dtype: int64"
      ]
     },
     "execution_count": 108,
     "metadata": {},
     "output_type": "execute_result"
    }
   ],
   "source": [
    "df_path['referee'].value_counts()"
   ]
  },
  {
   "cell_type": "code",
   "execution_count": 114,
   "metadata": {},
   "outputs": [],
   "source": [
    "grp = df_path.groupby('referee')\n",
    "x = grp['total_goals'].agg(np.mean).round(decimals=2)\n",
    "y = grp['avg_bet_homewin'].agg(np.mean).round(decimals=2)\n",
    "z = grp['avg_bet_awaywin'].agg(np.mean).round(decimals=2)\n",
    "\n"
   ]
  },
  {
   "cell_type": "code",
   "execution_count": 120,
   "metadata": {},
   "outputs": [
    {
     "data": {
      "image/png": "[encoded data removed]",
      "text/plain": [
       "<Figure size 720x2880 with 2 Axes>"
      ]
     },
     "metadata": {
      "needs_background": "light"
     },
     "output_type": "display_data"
    }
   ],
   "source": [
    "fig,ax = plt.subplots(nrows=2,ncols=1,figsize=(10,25))\n",
    "\n",
    "#plt.xticks(rotation=90)\n",
    "ax[0].set_title('Refrees Goal Advantage Trend')\n",
    "ax[0].set_xlabel('referee-->')\n",
    "ax[0].set_ylabel('total_goals-->')\n",
    "ax[0].scatter(df_path['referee'],df_path['total_goals'])\n",
    "\n",
    "ax[1].set_title('Refrees Home Game Advantage Trend')\n",
    "ax[1].set_xlabel('referee-->')\n",
    "ax[1].set_ylabel('fulltime_homegoals-->')\n",
    "ax[1].bar(df_path['referee'],df_path['fulltime_homegoal'])\n",
    "\n",
    "plt.show()"
   ]
  },
  {
   "cell_type": "code",
   "execution_count": null,
   "metadata": {},
   "outputs": [],
   "source": []
  }
 ],
 "metadata": {
  "kernelspec": {
   "display_name": "Python 3",
   "language": "python",
   "name": "python3"
  },
  "language_info": {
   "codemirror_mode": {
    "name": "ipython",
    "version": 3
   },
   "file_extension": ".py",
   "mimetype": "text/x-python",
   "name": "python",
   "nbconvert_exporter": "python",
   "pygments_lexer": "ipython3",
   "version": "3.8.3"
  }
 },
 "nbformat": 4,
 "nbformat_minor": 4
}
