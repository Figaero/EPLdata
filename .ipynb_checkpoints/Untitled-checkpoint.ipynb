{
 "cells": [
  {
   "cell_type": "code",
   "execution_count": 95,
   "metadata": {},
   "outputs": [],
   "source": [
    "import pandas as pd\n",
    "import numpy as np\n",
    "import matplotlib.pyplot as plt\n",
    "%matplotlib inline"
   ]
  },
  {
   "cell_type": "markdown",
   "metadata": {},
   "source": [
    "insert file pathname for pandas access"
   ]
  },
  {
   "cell_type": "code",
   "execution_count": 96,
   "metadata": {},
   "outputs": [],
   "source": [
    "df_path = pd.read_csv(\"/Users/figaero/Desktop/DataAnalysisWork/SQL Test 2/last_season.csv\")"
   ]
  },
  {
   "cell_type": "code",
   "execution_count": 97,
   "metadata": {},
   "outputs": [
    {
     "data": {
      "text/html": [
       "<div>\n",
       "<style scoped>\n",
       "    .dataframe tbody tr th:only-of-type {\n",
       "        vertical-align: middle;\n",
       "    }\n",
       "\n",
       "    .dataframe tbody tr th {\n",
       "        vertical-align: top;\n",
       "    }\n",
       "\n",
       "    .dataframe thead th {\n",
       "        text-align: right;\n",
       "    }\n",
       "</style>\n",
       "<table border=\"1\" class=\"dataframe\">\n",
       "  <thead>\n",
       "    <tr style=\"text-align: right;\">\n",
       "      <th></th>\n",
       "      <th>season</th>\n",
       "      <th>date</th>\n",
       "      <th>time</th>\n",
       "      <th>home_team</th>\n",
       "      <th>away_team</th>\n",
       "      <th>fulltime_homegoal</th>\n",
       "      <th>fulltime_awaygoal</th>\n",
       "      <th>result_home_away_draw</th>\n",
       "      <th>halftime_home_goals</th>\n",
       "      <th>halftime_away_goals</th>\n",
       "      <th>...</th>\n",
       "      <th>awayteam_redcards</th>\n",
       "      <th>B365_homewinodds</th>\n",
       "      <th>B365_drawodds</th>\n",
       "      <th>B365_awaywinodds</th>\n",
       "      <th>bet-and-win_homewinodds</th>\n",
       "      <th>bet-and-win_drawodds</th>\n",
       "      <th>bet-and-win_awaywinodds</th>\n",
       "      <th>william-hill_homewinodds</th>\n",
       "      <th>william-hill_drawodds</th>\n",
       "      <th>william-hill_awaywinodds</th>\n",
       "    </tr>\n",
       "  </thead>\n",
       "  <tbody>\n",
       "    <tr>\n",
       "      <th>0</th>\n",
       "      <td>yr_19-20</td>\n",
       "      <td>09/08/2019</td>\n",
       "      <td>20:00</td>\n",
       "      <td>Liverpool</td>\n",
       "      <td>Norwich</td>\n",
       "      <td>4</td>\n",
       "      <td>1</td>\n",
       "      <td>H</td>\n",
       "      <td>4</td>\n",
       "      <td>0</td>\n",
       "      <td>...</td>\n",
       "      <td>0</td>\n",
       "      <td>1.14</td>\n",
       "      <td>10.00</td>\n",
       "      <td>19.00</td>\n",
       "      <td>1.14</td>\n",
       "      <td>8.25</td>\n",
       "      <td>18.50</td>\n",
       "      <td>1.12</td>\n",
       "      <td>8.5</td>\n",
       "      <td>21.00</td>\n",
       "    </tr>\n",
       "    <tr>\n",
       "      <th>1</th>\n",
       "      <td>yr_19-20</td>\n",
       "      <td>10/08/2019</td>\n",
       "      <td>12:30</td>\n",
       "      <td>West Ham</td>\n",
       "      <td>Man City</td>\n",
       "      <td>0</td>\n",
       "      <td>5</td>\n",
       "      <td>A</td>\n",
       "      <td>0</td>\n",
       "      <td>1</td>\n",
       "      <td>...</td>\n",
       "      <td>0</td>\n",
       "      <td>12.00</td>\n",
       "      <td>6.50</td>\n",
       "      <td>1.22</td>\n",
       "      <td>11.50</td>\n",
       "      <td>5.75</td>\n",
       "      <td>1.26</td>\n",
       "      <td>13.00</td>\n",
       "      <td>6.0</td>\n",
       "      <td>1.24</td>\n",
       "    </tr>\n",
       "    <tr>\n",
       "      <th>2</th>\n",
       "      <td>yr_19-20</td>\n",
       "      <td>10/08/2019</td>\n",
       "      <td>15:00</td>\n",
       "      <td>Bournemouth</td>\n",
       "      <td>Sheffield United</td>\n",
       "      <td>1</td>\n",
       "      <td>1</td>\n",
       "      <td>D</td>\n",
       "      <td>0</td>\n",
       "      <td>0</td>\n",
       "      <td>...</td>\n",
       "      <td>0</td>\n",
       "      <td>1.95</td>\n",
       "      <td>3.60</td>\n",
       "      <td>3.60</td>\n",
       "      <td>1.95</td>\n",
       "      <td>3.60</td>\n",
       "      <td>3.90</td>\n",
       "      <td>2.00</td>\n",
       "      <td>3.5</td>\n",
       "      <td>3.80</td>\n",
       "    </tr>\n",
       "    <tr>\n",
       "      <th>3</th>\n",
       "      <td>yr_19-20</td>\n",
       "      <td>10/08/2019</td>\n",
       "      <td>15:00</td>\n",
       "      <td>Burnley</td>\n",
       "      <td>Southampton</td>\n",
       "      <td>3</td>\n",
       "      <td>0</td>\n",
       "      <td>H</td>\n",
       "      <td>0</td>\n",
       "      <td>0</td>\n",
       "      <td>...</td>\n",
       "      <td>0</td>\n",
       "      <td>2.62</td>\n",
       "      <td>3.20</td>\n",
       "      <td>2.75</td>\n",
       "      <td>2.65</td>\n",
       "      <td>3.20</td>\n",
       "      <td>2.75</td>\n",
       "      <td>2.70</td>\n",
       "      <td>3.2</td>\n",
       "      <td>2.75</td>\n",
       "    </tr>\n",
       "    <tr>\n",
       "      <th>4</th>\n",
       "      <td>yr_19-20</td>\n",
       "      <td>10/08/2019</td>\n",
       "      <td>15:00</td>\n",
       "      <td>Crystal Palace</td>\n",
       "      <td>Everton</td>\n",
       "      <td>0</td>\n",
       "      <td>0</td>\n",
       "      <td>D</td>\n",
       "      <td>0</td>\n",
       "      <td>0</td>\n",
       "      <td>...</td>\n",
       "      <td>1</td>\n",
       "      <td>3.00</td>\n",
       "      <td>3.25</td>\n",
       "      <td>2.37</td>\n",
       "      <td>3.20</td>\n",
       "      <td>3.20</td>\n",
       "      <td>2.35</td>\n",
       "      <td>3.10</td>\n",
       "      <td>3.3</td>\n",
       "      <td>2.35</td>\n",
       "    </tr>\n",
       "  </tbody>\n",
       "</table>\n",
       "<p>5 rows × 33 columns</p>\n",
       "</div>"
      ],
      "text/plain": [
       "     season        date   time       home_team         away_team  \\\n",
       "0  yr_19-20  09/08/2019  20:00       Liverpool           Norwich   \n",
       "1  yr_19-20  10/08/2019  12:30        West Ham          Man City   \n",
       "2  yr_19-20  10/08/2019  15:00     Bournemouth  Sheffield United   \n",
       "3  yr_19-20  10/08/2019  15:00         Burnley       Southampton   \n",
       "4  yr_19-20  10/08/2019  15:00  Crystal Palace           Everton   \n",
       "\n",
       "   fulltime_homegoal  fulltime_awaygoal result_home_away_draw  \\\n",
       "0                  4                  1                     H   \n",
       "1                  0                  5                     A   \n",
       "2                  1                  1                     D   \n",
       "3                  3                  0                     H   \n",
       "4                  0                  0                     D   \n",
       "\n",
       "   halftime_home_goals  halftime_away_goals  ... awayteam_redcards  \\\n",
       "0                    4                    0  ...                 0   \n",
       "1                    0                    1  ...                 0   \n",
       "2                    0                    0  ...                 0   \n",
       "3                    0                    0  ...                 0   \n",
       "4                    0                    0  ...                 1   \n",
       "\n",
       "  B365_homewinodds  B365_drawodds  B365_awaywinodds  bet-and-win_homewinodds  \\\n",
       "0             1.14          10.00             19.00                     1.14   \n",
       "1            12.00           6.50              1.22                    11.50   \n",
       "2             1.95           3.60              3.60                     1.95   \n",
       "3             2.62           3.20              2.75                     2.65   \n",
       "4             3.00           3.25              2.37                     3.20   \n",
       "\n",
       "   bet-and-win_drawodds  bet-and-win_awaywinodds  william-hill_homewinodds  \\\n",
       "0                  8.25                    18.50                      1.12   \n",
       "1                  5.75                     1.26                     13.00   \n",
       "2                  3.60                     3.90                      2.00   \n",
       "3                  3.20                     2.75                      2.70   \n",
       "4                  3.20                     2.35                      3.10   \n",
       "\n",
       "   william-hill_drawodds  william-hill_awaywinodds  \n",
       "0                    8.5                     21.00  \n",
       "1                    6.0                      1.24  \n",
       "2                    3.5                      3.80  \n",
       "3                    3.2                      2.75  \n",
       "4                    3.3                      2.35  \n",
       "\n",
       "[5 rows x 33 columns]"
      ]
     },
     "execution_count": 97,
     "metadata": {},
     "output_type": "execute_result"
    }
   ],
   "source": [
    "df_path.head()"
   ]
  },
  {
   "cell_type": "code",
   "execution_count": 98,
   "metadata": {
    "scrolled": true
   },
   "outputs": [
    {
     "name": "stdout",
     "output_type": "stream",
     "text": [
      "<class 'pandas.core.frame.DataFrame'>\n",
      "RangeIndex: 380 entries, 0 to 379\n",
      "Data columns (total 33 columns):\n",
      " #   Column                    Non-Null Count  Dtype  \n",
      "---  ------                    --------------  -----  \n",
      " 0   season                    380 non-null    object \n",
      " 1   date                      380 non-null    object \n",
      " 2   time                      380 non-null    object \n",
      " 3   home_team                 380 non-null    object \n",
      " 4   away_team                 380 non-null    object \n",
      " 5   fulltime_homegoal         380 non-null    int64  \n",
      " 6   fulltime_awaygoal         380 non-null    int64  \n",
      " 7   result_home_away_draw     380 non-null    object \n",
      " 8   halftime_home_goals       380 non-null    int64  \n",
      " 9   halftime_away_goals       380 non-null    int64  \n",
      " 10  halftime_result           380 non-null    object \n",
      " 11  referee                   380 non-null    object \n",
      " 12  hometeam_shots            380 non-null    int64  \n",
      " 13  awayteam_shots            380 non-null    int64  \n",
      " 14  hometeam_shotsontarget    380 non-null    int64  \n",
      " 15  awayteam_shotsontarget    380 non-null    int64  \n",
      " 16  hometeam_fouls            380 non-null    int64  \n",
      " 17  awayteam_fouls            380 non-null    int64  \n",
      " 18  hometeam_corners          380 non-null    int64  \n",
      " 19  awayteam_corners          380 non-null    int64  \n",
      " 20  hometeam_yellowcards      380 non-null    int64  \n",
      " 21  awayteam_yellowcards      380 non-null    int64  \n",
      " 22  hometeam_redcards         380 non-null    int64  \n",
      " 23  awayteam_redcards         380 non-null    int64  \n",
      " 24  B365_homewinodds          380 non-null    float64\n",
      " 25  B365_drawodds             380 non-null    float64\n",
      " 26  B365_awaywinodds          380 non-null    float64\n",
      " 27  bet-and-win_homewinodds   380 non-null    float64\n",
      " 28  bet-and-win_drawodds      380 non-null    float64\n",
      " 29  bet-and-win_awaywinodds   380 non-null    float64\n",
      " 30  william-hill_homewinodds  380 non-null    float64\n",
      " 31  william-hill_drawodds     380 non-null    float64\n",
      " 32  william-hill_awaywinodds  380 non-null    float64\n",
      "dtypes: float64(9), int64(16), object(8)\n",
      "memory usage: 98.1+ KB\n"
     ]
    }
   ],
   "source": [
    "df_path.info()"
   ]
  },
  {
   "cell_type": "markdown",
   "metadata": {},
   "source": [
    "Data Cleaning"
   ]
  },
  {
   "cell_type": "markdown",
   "metadata": {},
   "source": [
    "df_path['time'] = df_path['date'].astype('str') + '-' + df_path['time'].astype('str')\n",
    "df_path['time].astype('datetime\n",
    "df_path.drop('date',axis=1,inplace=True)"
   ]
  },
  {
   "cell_type": "code",
   "execution_count": 99,
   "metadata": {},
   "outputs": [
    {
     "data": {
      "text/plain": [
       "0     2019-09-08\n",
       "1     2019-10-08\n",
       "2     2019-10-08\n",
       "3     2019-10-08\n",
       "4     2019-10-08\n",
       "         ...    \n",
       "375   2020-07-26\n",
       "376   2020-07-26\n",
       "377   2020-07-26\n",
       "378   2020-07-26\n",
       "379   2020-07-26\n",
       "Name: date, Length: 380, dtype: datetime64[ns]"
      ]
     },
     "execution_count": 99,
     "metadata": {},
     "output_type": "execute_result"
    }
   ],
   "source": [
    "df_path['time'].astype('datetime64')\n",
    "df_path['date'].astype('datetime64')"
   ]
  },
  {
   "cell_type": "code",
   "execution_count": 100,
   "metadata": {},
   "outputs": [],
   "source": [
    "df_path.head()\n",
    "df_path['total_reds'] = df_path['hometeam_redcards'] + df_path['awayteam_redcards']\n",
    "df_path['total_yellow'] = df_path['hometeam_yellowcards'] + df_path['awayteam_yellowcards']\n",
    "df_path['total_goals'] = df_path['fulltime_homegoal'] + df_path['fulltime_awaygoal']\n",
    "df_path['total_fouls'] = df_path['hometeam_fouls'] + df_path['awayteam_fouls']\n",
    "df_path['avg_bet_homewin'] = (df_path['B365_homewinodds'] + df_path['bet-and-win_homewinodds'] + df_path['william-hill_homewinodds'])/3\n",
    "df_path['avg_bet_awaywin'] = (df_path['B365_awaywinodds'] + df_path['bet-and-win_awaywinodds'] + df_path['william-hill_awaywinodds'])/3\n",
    "df_path['avg_bet_homewin'] = (df_path['B365_drawodds'] + df_path['bet-and-win_drawodds'] + df_path['william-hill_drawodds'])/3"
   ]
  },
  {
   "cell_type": "code",
   "execution_count": 101,
   "metadata": {},
   "outputs": [],
   "source": [
    "threshold = df_path['referee'].value_counts()"
   ]
  },
  {
   "cell_type": "code",
   "execution_count": 102,
   "metadata": {},
   "outputs": [
    {
     "name": "stdout",
     "output_type": "stream",
     "text": [
      "0      18\n",
      "1      19\n",
      "2      29\n",
      "3      18\n",
      "4      30\n",
      "       ..\n",
      "375    23\n",
      "376    11\n",
      "377    16\n",
      "378    25\n",
      "379    29\n",
      "Name: total_fouls, Length: 380, dtype: int64\n"
     ]
    }
   ],
   "source": [
    "grp = df_path.groupby('referee')\n",
    "\n",
    "x = total_goals\n",
    "y = total_fouls\n",
    "z = total_yellow\n",
    "\n",
    "print (df_path['total_fouls'])\n",
    "# x = grp['fulltime_homegoal'].agg(np.mean).round(decimals=2)\n",
    "# y = grp['fulltime_awaygoal'].agg(np.mean).round(decimals=2)\n"
   ]
  },
  {
   "cell_type": "code",
   "execution_count": 106,
   "metadata": {},
   "outputs": [
    {
     "data": {
      "image/png": "[encoded data removed]",
      "text/plain": [
       "<Figure size 1152x360 with 1 Axes>"
      ]
     },
     "metadata": {
      "needs_background": "light"
     },
     "output_type": "display_data"
    }
   ],
   "source": [
    "plt.figure(figsize=(16,5))\n",
    "plt.plot(y,'ro',color='r')\n",
    "#plt.xticks(rotation=90)\n",
    "plt.title('Refrees Home Game Advantage Trend')\n",
    "plt.xlabel('Home Goals')\n",
    "plt.ylabel('away goals')\n",
    "plt.show()"
   ]
  },
  {
   "cell_type": "code",
   "execution_count": null,
   "metadata": {},
   "outputs": [],
   "source": []
  }
 ],
 "metadata": {
  "kernelspec": {
   "display_name": "Python 3",
   "language": "python",
   "name": "python3"
  },
  "language_info": {
   "codemirror_mode": {
    "name": "ipython",
    "version": 3
   },
   "file_extension": ".py",
   "mimetype": "text/x-python",
   "name": "python",
   "nbconvert_exporter": "python",
   "pygments_lexer": "ipython3",
   "version": "3.8.3"
  }
 },
 "nbformat": 4,
 "nbformat_minor": 4
}
